{
 "cells": [
  {
   "cell_type": "code",
   "execution_count": null,
   "metadata": {
    "collapsed": false
   },
   "outputs": [],
   "source": [
    "import pandas as pd\n",
    "from pyspark import SparkContext\n",
    "\n",
    "import os\n",
    "import sys\n",
    "import re\n",
    "\n",
    "from pyspark import SparkContext, SparkConf\n",
    "\n",
    "from pyspark.sql.types import *\n",
    "from pyspark.sql import Row\n",
    "import pyspark.sql.functions as func"
   ]
  },
  {
   "cell_type": "code",
   "execution_count": 3,
   "metadata": {
    "collapsed": false
   },
   "outputs": [],
   "source": [
    "\n",
    "spark_home = os.environ.get('SPARK_HOME', None)\n",
    "sys.path.insert(0, spark_home + \"/python\")\n",
    "\n",
    "# Add the py4j to the path\n",
    "sys.path.insert(0, os.path.join(spark_home, 'python/lib/py4j-0.8.2.1-src.zip'))\n",
    "\n",
    "# Initialize PySpark to predefine the SparkContext variable 'sc'\n",
    "#execfile(os.path.join(spark_home, 'python/pyspark/shell.py'))"
   ]
  },
  {
   "cell_type": "code",
   "execution_count": 4,
   "metadata": {
    "collapsed": false
   },
   "outputs": [
    {
     "data": {
      "text/plain": [
       "<pyspark.context.SparkContext at 0x7f916ab4f7d0>"
      ]
     },
     "execution_count": 4,
     "metadata": {},
     "output_type": "execute_result"
    }
   ],
   "source": [
    "sc"
   ]
  },
  {
   "cell_type": "code",
   "execution_count": 20,
   "metadata": {
    "collapsed": false
   },
   "outputs": [
    {
     "name": "stdout",
     "output_type": "stream",
     "text": [
      "Help on method table in module pyspark.sql.context:\n",
      "\n",
      "table(self, tableName) method of pyspark.sql.context.HiveContext instance\n",
      "    Returns the specified table as a L{DataFrame}.\n",
      "    \n",
      "    >>> sqlCtx.registerDataFrameAsTable(df, \"table1\")\n",
      "    >>> df2 = sqlCtx.table(\"table1\")\n",
      "    >>> sorted(df.collect()) == sorted(df2.collect())\n",
      "    True\n",
      "\n"
     ]
    }
   ],
   "source": [
    "\n",
    "help(sqlCtx.table)"
   ]
  },
  {
   "cell_type": "code",
   "execution_count": 19,
   "metadata": {
    "collapsed": false
   },
   "outputs": [
    {
     "data": {
      "text/plain": [
       "[u'stockprices', u'tweets']"
      ]
     },
     "execution_count": 19,
     "metadata": {},
     "output_type": "execute_result"
    }
   ],
   "source": [
    "sqlCtx.tableNames(\"pg\")"
   ]
  },
  {
   "cell_type": "code",
   "execution_count": 21,
   "metadata": {
    "collapsed": false
   },
   "outputs": [],
   "source": [
    "df = sqlCtx.table(\"pg.tweets\")"
   ]
  },
  {
   "cell_type": "code",
   "execution_count": 22,
   "metadata": {
    "collapsed": false
   },
   "outputs": [
    {
     "data": {
      "text/plain": [
       "pyspark.sql.dataframe.DataFrame"
      ]
     },
     "execution_count": 22,
     "metadata": {},
     "output_type": "execute_result"
    }
   ],
   "source": [
    "type(df)"
   ]
  },
  {
   "cell_type": "code",
   "execution_count": 23,
   "metadata": {
    "collapsed": false
   },
   "outputs": [
    {
     "data": {
      "text/plain": [
       "[u'tweetid',\n",
       " u'date',\n",
       " u'location',\n",
       " u'latitude',\n",
       " u'language',\n",
       " u'hashtags',\n",
       " u'text',\n",
       " u'hashedusername',\n",
       " u'hasheduserscreenname',\n",
       " u'userlanguage',\n",
       " u'userlcatin',\n",
       " u'userdescriptin',\n",
       " u'numberffllwers',\n",
       " u'numberfretweets']"
      ]
     },
     "execution_count": 23,
     "metadata": {},
     "output_type": "execute_result"
    }
   ],
   "source": [
    "df.columns"
   ]
  },
  {
   "cell_type": "code",
   "execution_count": 24,
   "metadata": {
    "collapsed": false
   },
   "outputs": [
    {
     "name": "stdout",
     "output_type": "stream",
     "text": [
      "root\n",
      " |-- tweetid: integer (nullable = true)\n",
      " |-- date: date (nullable = true)\n",
      " |-- location: string (nullable = true)\n",
      " |-- latitude: float (nullable = true)\n",
      " |-- language: string (nullable = true)\n",
      " |-- hashtags: string (nullable = true)\n",
      " |-- text: string (nullable = true)\n",
      " |-- hashedusername: string (nullable = true)\n",
      " |-- hasheduserscreenname: string (nullable = true)\n",
      " |-- userlanguage: string (nullable = true)\n",
      " |-- userlcatin: string (nullable = true)\n",
      " |-- userdescriptin: string (nullable = true)\n",
      " |-- numberffllwers: string (nullable = true)\n",
      " |-- numberfretweets: string (nullable = true)\n",
      "\n"
     ]
    }
   ],
   "source": [
    "df.printSchema()"
   ]
  },
  {
   "cell_type": "code",
   "execution_count": 25,
   "metadata": {
    "collapsed": false
   },
   "outputs": [
    {
     "data": {
      "text/plain": [
       "Row(tweetid=-1854715618, date=None, location=u'', latitude=None, language=u'', hashtags=u'el', text=u'Olay Total Effects', hashedusername=u'\\u0391\\u03bd\\u03c4\\u03b9\\u03b3\\u03b7\\u03c1\\u03b1\\u03bd\\u03c4\\u03b9\\u03ba\\u03ae \\u039b\\u03bf\\u03c3\\u03b9\\u03cc\\u03bd OLAY! 1+1 \\u03b4\\u03ce\\u03c1\\u03bf! #Olay #Total #Effects https://t.co/qHGogsiO7A', hasheduserscreenname=u'-2017603935', userlanguage=u'-1559551197', userlcatin=u'el', userdescriptin=u'', numberffllwers=u'', numberfretweets=u'4')"
      ]
     },
     "execution_count": 25,
     "metadata": {},
     "output_type": "execute_result"
    }
   ],
   "source": [
    "df.head()"
   ]
  },
  {
   "cell_type": "code",
   "execution_count": null,
   "metadata": {
    "collapsed": true
   },
   "outputs": [],
   "source": []
  }
 ],
 "metadata": {
  "kernelspec": {
   "display_name": "Python 2",
   "language": "python",
   "name": "python2"
  },
  "language_info": {
   "codemirror_mode": {
    "name": "ipython",
    "version": 2
   },
   "file_extension": ".py",
   "mimetype": "text/x-python",
   "name": "python",
   "nbconvert_exporter": "python",
   "pygments_lexer": "ipython2",
   "version": "2.7.13"
  }
 },
 "nbformat": 4,
 "nbformat_minor": 2
}
