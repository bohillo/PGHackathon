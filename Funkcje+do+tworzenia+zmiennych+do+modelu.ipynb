{
 "cells": [
  {
   "cell_type": "markdown",
   "metadata": {},
   "source": [
    "# Input"
   ]
  },
  {
   "cell_type": "code",
   "execution_count": 19,
   "metadata": {
    "collapsed": true
   },
   "outputs": [],
   "source": [
    "input_list = ['all', 'this', 'happened', 'more', 'or', 'less']"
   ]
  },
  {
   "cell_type": "markdown",
   "metadata": {},
   "source": [
    "# Funkcja tworząca ngramy"
   ]
  },
  {
   "cell_type": "code",
   "execution_count": 20,
   "metadata": {
    "collapsed": true
   },
   "outputs": [],
   "source": [
    "def find_ngrams(input_list, n):\n",
    "  return zip(*[input_list[i:] for i in range(n)])"
   ]
  },
  {
   "cell_type": "markdown",
   "metadata": {},
   "source": [
    "# Użycie funkcji"
   ]
  },
  {
   "cell_type": "markdown",
   "metadata": {},
   "source": [
    "Output to lista bigramow"
   ]
  },
  {
   "cell_type": "code",
   "execution_count": 29,
   "metadata": {
    "collapsed": false
   },
   "outputs": [
    {
     "name": "stdout",
     "output_type": "stream",
     "text": [
      "[('all',), ('this',), ('happened',), ('more',), ('or',), ('less',)]\n"
     ]
    }
   ],
   "source": [
    "print(find_ngrams(input_list,1))"
   ]
  },
  {
   "cell_type": "markdown",
   "metadata": {},
   "source": [
    "# Tworzenie unikalnej listy n-gramów"
   ]
  },
  {
   "cell_type": "code",
   "execution_count": 22,
   "metadata": {
    "collapsed": true
   },
   "outputs": [],
   "source": [
    "def makeUniqueList(mylist):\n",
    "    myset = set(mylist)\n",
    "    mynewlist = list(myset)\n",
    "    return mynewlist"
   ]
  },
  {
   "cell_type": "code",
   "execution_count": 23,
   "metadata": {
    "collapsed": true
   },
   "outputs": [],
   "source": [
    "mylist = [u'nowplaying', u'PBS', u'PBS', u'nowplaying', u'job', u'debate', u'thenandnow']"
   ]
  },
  {
   "cell_type": "code",
   "execution_count": 24,
   "metadata": {
    "collapsed": false
   },
   "outputs": [
    {
     "data": {
      "text/plain": [
       "[u'nowplaying', u'job', u'debate', u'PBS', u'thenandnow']"
      ]
     },
     "execution_count": 24,
     "metadata": {},
     "output_type": "execute_result"
    }
   ],
   "source": [
    "makeUniqueList(mylist)"
   ]
  },
  {
   "cell_type": "code",
   "execution_count": 13,
   "metadata": {
    "collapsed": true
   },
   "outputs": [],
   "source": [
    "pos_tweets = [('I love this car', 'positive'),\n",
    "              ('This view is amazing', 'positive'),\n",
    "              ('I feel great this morning', 'positive'),\n",
    "              ('I am so excited about the concert', 'positive'),\n",
    "              ('He is my best friend', 'positive')]\n",
    "neg_tweets = [('I do not like this car', 'negative'),\n",
    "              ('This view is horrible', 'negative'),\n",
    "              ('I feel tired this morning', 'negative'),\n",
    "              ('I am not looking forward to the concert', 'negative'),\n",
    "              ('He is my enemy', 'negative')]"
   ]
  },
  {
   "cell_type": "markdown",
   "metadata": {},
   "source": [
    "# Przeksztalcanie inputu z bazy "
   ]
  },
  {
   "cell_type": "code",
   "execution_count": 14,
   "metadata": {
    "collapsed": false
   },
   "outputs": [],
   "source": [
    "tweets = []\n",
    "for (words, sentiment) in pos_tweets + neg_tweets:\n",
    "    words_filtered = [e.lower() for e in words.split() if len(e) >= 3] \n",
    "    tweets.append((words_filtered, sentiment))"
   ]
  },
  {
   "cell_type": "code",
   "execution_count": 5,
   "metadata": {
    "collapsed": false
   },
   "outputs": [],
   "source": [
    "import nltk\n",
    "import nltk.collocations\n",
    "import nltk.corpus\n",
    "import collections"
   ]
  },
  {
   "cell_type": "code",
   "execution_count": 60,
   "metadata": {
    "collapsed": false
   },
   "outputs": [],
   "source": [
    "def get_word_scores(wordlist):\n",
    "    wordlist = nltk.FreqDist(wordlist)\n",
    "    #word_features = wordlist.keys()\n",
    "    return wordlist #word_features\n",
    "\n",
    "def get_words_in_tweets(tweets):\n",
    "    all_words = []\n",
    "    for (words, sentiment) in tweets:\n",
    "      all_words.extend(words)\n",
    "    return all_words\n",
    "\n",
    "def get_bigram_scores(tweets):\n",
    "    bgm    = nltk.collocations.BigramAssocMeasures()\n",
    "    finder = nltk.collocations.BigramCollocationFinder.from_words(\n",
    "        get_words_in_tweets(tweets))\n",
    "    scored = finder.score_ngrams( bgm.likelihood_ratio  )\n",
    "    scoresDict = {}\n",
    "    for key, scores in scored:\n",
    "       scoresDict[key]=scores\n",
    "    return scoresDict\n",
    "def get_trigram_scores(tweets):\n",
    "    bgm    = nltk.collocations.TrigramAssocMeasures()\n",
    "    finder = nltk.collocations.TrigramCollocationFinder.from_words(\n",
    "        get_words_in_tweets(tweets))\n",
    "    scored = finder.score_ngrams( bgm.likelihood_ratio  )\n",
    "    scoresDict = {}\n",
    "    for key, scores in scored:\n",
    "       scoresDict[key]=scores\n",
    "    return scoresDict"
   ]
  },
  {
   "cell_type": "markdown",
   "metadata": {},
   "source": [
    "Lista slow pojedycznych plus czestosc"
   ]
  },
  {
   "cell_type": "code",
   "execution_count": 45,
   "metadata": {
    "collapsed": false
   },
   "outputs": [
    {
     "data": {
      "text/plain": [
       "FreqDist({'about': 1,\n",
       "          'amazing': 1,\n",
       "          'best': 1,\n",
       "          'car': 2,\n",
       "          'concert': 2,\n",
       "          'enemy': 1,\n",
       "          'excited': 1,\n",
       "          'feel': 2,\n",
       "          'forward': 1,\n",
       "          'friend': 1,\n",
       "          'great': 1,\n",
       "          'horrible': 1,\n",
       "          'like': 1,\n",
       "          'looking': 1,\n",
       "          'love': 1,\n",
       "          'morning': 2,\n",
       "          'not': 2,\n",
       "          'the': 2,\n",
       "          'this': 6,\n",
       "          'tired': 1,\n",
       "          'view': 2})"
      ]
     },
     "execution_count": 45,
     "metadata": {},
     "output_type": "execute_result"
    }
   ],
   "source": [
    "get_word_features(get_words_in_tweets(tweets))"
   ]
  },
  {
   "cell_type": "markdown",
   "metadata": {},
   "source": [
    "lista bigramow"
   ]
  },
  {
   "cell_type": "code",
   "execution_count": 62,
   "metadata": {
    "collapsed": false
   },
   "outputs": [
    {
     "data": {
      "text/plain": [
       "{('about', 'the'): 6.189812555365415,\n",
       " ('amazing', 'feel'): 6.189812555365415,\n",
       " ('best', 'friend'): 8.962401277605196,\n",
       " ('car', 'this'): 7.4515336369310905,\n",
       " ('concert', 'best'): 6.189812555365415,\n",
       " ('concert', 'enemy'): 6.189812555365415,\n",
       " ('excited', 'about'): 8.962401277605196,\n",
       " ('feel', 'great'): 6.189812555365415,\n",
       " ('feel', 'tired'): 6.189812555365415,\n",
       " ('forward', 'the'): 6.189812555365415,\n",
       " ('friend', 'not'): 6.189812555365415,\n",
       " ('great', 'this'): 3.5556667712095402,\n",
       " ('horrible', 'feel'): 6.189812555365415,\n",
       " ('like', 'this'): 3.5556667712095402,\n",
       " ('looking', 'forward'): 8.962401277605196,\n",
       " ('love', 'this'): 3.5556667712095402,\n",
       " ('morning', 'excited'): 6.189812555365415,\n",
       " ('morning', 'not'): 3.4817511558793264,\n",
       " ('not', 'like'): 6.189812555365415,\n",
       " ('not', 'looking'): 6.189812555365415,\n",
       " ('the', 'concert'): 15.089703656468842,\n",
       " ('this', 'car'): 7.4515336369310905,\n",
       " ('this', 'morning'): 7.4515336369310905,\n",
       " ('this', 'view'): 7.4515336369310905,\n",
       " ('tired', 'this'): 3.5556667712095402,\n",
       " ('view', 'amazing'): 6.189812555365415,\n",
       " ('view', 'horrible'): 6.189812555365415}"
      ]
     },
     "execution_count": 62,
     "metadata": {},
     "output_type": "execute_result"
    }
   ],
   "source": [
    "get_bigram_scores(tweets)"
   ]
  },
  {
   "cell_type": "markdown",
   "metadata": {},
   "source": [
    "lista trigramow"
   ]
  },
  {
   "cell_type": "code",
   "execution_count": 61,
   "metadata": {
    "collapsed": false
   },
   "outputs": [
    {
     "data": {
      "text/plain": [
       "{('about', 'the', 'concert'): 31.919274317751402,\n",
       " ('amazing', 'feel', 'great'): 22.728320749455918,\n",
       " ('best', 'friend', 'not'): 22.728320749455918,\n",
       " ('car', 'this', 'view'): 33.81185594009992,\n",
       " ('concert', 'best', 'friend'): 22.728320749455918,\n",
       " ('excited', 'about', 'the'): 22.728320749455918,\n",
       " ('feel', 'great', 'this'): 20.462019288444772,\n",
       " ('feel', 'tired', 'this'): 20.462019288444772,\n",
       " ('forward', 'the', 'concert'): 31.919274317751402,\n",
       " ('friend', 'not', 'like'): 22.728320749455918,\n",
       " ('great', 'this', 'morning'): 20.462019288444772,\n",
       " ('horrible', 'feel', 'tired'): 22.728320749455918,\n",
       " ('like', 'this', 'car'): 20.462019288444772,\n",
       " ('looking', 'forward', 'the'): 22.728320749455918,\n",
       " ('love', 'this', 'car'): 20.462019288444772,\n",
       " ('morning', 'excited', 'about'): 22.728320749455918,\n",
       " ('morning', 'not', 'looking'): 18.666228650226792,\n",
       " ('not', 'like', 'this'): 15.136799460842528,\n",
       " ('not', 'looking', 'forward'): 22.728320749455918,\n",
       " ('the', 'concert', 'best'): 31.919274317751402,\n",
       " ('the', 'concert', 'enemy'): 31.919274317751402,\n",
       " ('this', 'car', 'this'): 24.138939534321892,\n",
       " ('this', 'morning', 'excited'): 20.462019288444772,\n",
       " ('this', 'morning', 'not'): 16.821716676065186,\n",
       " ('this', 'view', 'amazing'): 20.462019288444772,\n",
       " ('this', 'view', 'horrible'): 20.462019288444772,\n",
       " ('tired', 'this', 'morning'): 20.462019288444772,\n",
       " ('view', 'amazing', 'feel'): 31.919274317751402,\n",
       " ('view', 'horrible', 'feel'): 31.919274317751402}"
      ]
     },
     "execution_count": 61,
     "metadata": {},
     "output_type": "execute_result"
    }
   ],
   "source": [
    "get_trigram_scores(tweets)"
   ]
  },
  {
   "cell_type": "markdown",
   "metadata": {},
   "source": [
    "Wybranie top slow, bigramow, trigramow do modelu"
   ]
  },
  {
   "cell_type": "code",
   "execution_count": 71,
   "metadata": {
    "collapsed": true
   },
   "outputs": [],
   "source": [
    "def getListOfNgram(scoresDict,minScore):\n",
    "   dictFiltered = dict(filter(lambda (key,score): score > minScore, scoresDict.items()))\n",
    "   return dictFiltered.keys()"
   ]
  },
  {
   "cell_type": "code",
   "execution_count": 72,
   "metadata": {
    "collapsed": false
   },
   "outputs": [
    {
     "data": {
      "text/plain": [
       "[('view', 'horrible', 'feel'),\n",
       " ('view', 'amazing', 'feel'),\n",
       " ('car', 'this', 'view'),\n",
       " ('forward', 'the', 'concert'),\n",
       " ('the', 'concert', 'best'),\n",
       " ('the', 'concert', 'enemy'),\n",
       " ('about', 'the', 'concert')]"
      ]
     },
     "execution_count": 72,
     "metadata": {},
     "output_type": "execute_result"
    }
   ],
   "source": [
    "getListOfNgram(get_trigram_scores(tweets),30)"
   ]
  },
  {
   "cell_type": "code",
   "execution_count": 115,
   "metadata": {
    "collapsed": false
   },
   "outputs": [
    {
     "data": {
      "text/plain": [
       "[('morning', 'not'),\n",
       " ('car', 'this'),\n",
       " ('not', 'looking'),\n",
       " ('not', 'like'),\n",
       " ('forward', 'the'),\n",
       " ('this', 'car'),\n",
       " ('view', 'horrible'),\n",
       " ('tired', 'this'),\n",
       " ('friend', 'not'),\n",
       " ('concert', 'best'),\n",
       " ('feel', 'great'),\n",
       " ('view', 'amazing'),\n",
       " ('love', 'this'),\n",
       " ('horrible', 'feel'),\n",
       " ('concert', 'enemy'),\n",
       " ('this', 'morning'),\n",
       " ('great', 'this'),\n",
       " ('the', 'concert'),\n",
       " ('morning', 'excited'),\n",
       " ('excited', 'about'),\n",
       " ('feel', 'tired'),\n",
       " ('amazing', 'feel'),\n",
       " ('looking', 'forward'),\n",
       " ('like', 'this'),\n",
       " ('about', 'the'),\n",
       " ('best', 'friend'),\n",
       " ('this', 'view'),\n",
       " ('looking', 'forward', 'the'),\n",
       " ('this', 'view', 'amazing'),\n",
       " ('this', 'morning', 'excited'),\n",
       " ('this', 'morning', 'not'),\n",
       " ('like', 'this', 'car'),\n",
       " ('horrible', 'feel', 'tired'),\n",
       " ('love', 'this', 'car'),\n",
       " ('view', 'horrible', 'feel'),\n",
       " ('the', 'concert', 'best'),\n",
       " ('concert', 'best', 'friend'),\n",
       " ('feel', 'great', 'this'),\n",
       " ('this', 'car', 'this'),\n",
       " ('amazing', 'feel', 'great'),\n",
       " ('not', 'looking', 'forward'),\n",
       " ('friend', 'not', 'like'),\n",
       " ('best', 'friend', 'not'),\n",
       " ('great', 'this', 'morning'),\n",
       " ('feel', 'tired', 'this'),\n",
       " ('morning', 'excited', 'about'),\n",
       " ('morning', 'not', 'looking'),\n",
       " ('the', 'concert', 'enemy'),\n",
       " ('view', 'amazing', 'feel'),\n",
       " ('car', 'this', 'view'),\n",
       " ('forward', 'the', 'concert'),\n",
       " ('about', 'the', 'concert'),\n",
       " ('not', 'like', 'this'),\n",
       " ('this', 'view', 'horrible'),\n",
       " ('excited', 'about', 'the'),\n",
       " ('tired', 'this', 'morning'),\n",
       " 'enemy',\n",
       " 'great',\n",
       " 'love',\n",
       " 'like',\n",
       " 'tired',\n",
       " 'this',\n",
       " 'car',\n",
       " 'about',\n",
       " 'morning',\n",
       " 'looking',\n",
       " 'feel',\n",
       " 'amazing',\n",
       " 'not',\n",
       " 'best',\n",
       " 'horrible',\n",
       " 'forward',\n",
       " 'the',\n",
       " 'view',\n",
       " 'excited',\n",
       " 'friend',\n",
       " 'concert']"
      ]
     },
     "execution_count": 115,
     "metadata": {},
     "output_type": "execute_result"
    }
   ],
   "source": [
    "ngrams_features = list()\n",
    "ngrams_features = ngrams_features + getListOfNgram(get_bigram_scores(tweets),0)\n",
    "ngrams_features= ngrams_features + getListOfNgram(get_trigram_scores(tweets),0)\n",
    "ngrams_features = ngrams_features + getListOfNgram(get_word_features(get_words_in_tweets(tweets)),0)\n",
    "ngrams_features"
   ]
  },
  {
   "cell_type": "code",
   "execution_count": 116,
   "metadata": {
    "collapsed": true
   },
   "outputs": [],
   "source": [
    "def extract_features(document):\n",
    "    document_words = document[0].split()\n",
    "    document_bigrams = list(nltk.bigrams(document_words))\n",
    "    document_trigrams = list(nltk.trigrams(document_words))\n",
    "    document_ngrams = document_words + document_bigrams + document_trigrams\n",
    "    \n",
    "    features = {}\n",
    "    for word in ngrams_features:\n",
    "        features['contains(%s)' % ''.join(word)] = (word in document_ngrams)\n",
    "    return features"
   ]
  },
  {
   "cell_type": "code",
   "execution_count": 117,
   "metadata": {
    "collapsed": false
   },
   "outputs": [
    {
     "data": {
      "text/plain": [
       "{'contains(about)': False,\n",
       " 'contains(aboutthe)': False,\n",
       " 'contains(abouttheconcert)': False,\n",
       " 'contains(amazing)': False,\n",
       " 'contains(amazingfeel)': False,\n",
       " 'contains(amazingfeelgreat)': False,\n",
       " 'contains(best)': False,\n",
       " 'contains(bestfriend)': False,\n",
       " 'contains(bestfriendnot)': False,\n",
       " 'contains(car)': True,\n",
       " 'contains(carthis)': False,\n",
       " 'contains(carthisview)': False,\n",
       " 'contains(concert)': False,\n",
       " 'contains(concertbest)': False,\n",
       " 'contains(concertbestfriend)': False,\n",
       " 'contains(concertenemy)': False,\n",
       " 'contains(enemy)': False,\n",
       " 'contains(excited)': False,\n",
       " 'contains(excitedabout)': False,\n",
       " 'contains(excitedaboutthe)': False,\n",
       " 'contains(feel)': False,\n",
       " 'contains(feelgreat)': False,\n",
       " 'contains(feelgreatthis)': False,\n",
       " 'contains(feeltired)': False,\n",
       " 'contains(feeltiredthis)': False,\n",
       " 'contains(forward)': False,\n",
       " 'contains(forwardthe)': False,\n",
       " 'contains(forwardtheconcert)': False,\n",
       " 'contains(friend)': False,\n",
       " 'contains(friendnot)': False,\n",
       " 'contains(friendnotlike)': False,\n",
       " 'contains(great)': False,\n",
       " 'contains(greatthis)': False,\n",
       " 'contains(greatthismorning)': False,\n",
       " 'contains(horrible)': False,\n",
       " 'contains(horriblefeel)': False,\n",
       " 'contains(horriblefeeltired)': False,\n",
       " 'contains(like)': False,\n",
       " 'contains(likethis)': False,\n",
       " 'contains(likethiscar)': False,\n",
       " 'contains(looking)': False,\n",
       " 'contains(lookingforward)': False,\n",
       " 'contains(lookingforwardthe)': False,\n",
       " 'contains(love)': True,\n",
       " 'contains(lovethis)': True,\n",
       " 'contains(lovethiscar)': True,\n",
       " 'contains(morning)': False,\n",
       " 'contains(morningexcited)': False,\n",
       " 'contains(morningexcitedabout)': False,\n",
       " 'contains(morningnot)': False,\n",
       " 'contains(morningnotlooking)': False,\n",
       " 'contains(not)': False,\n",
       " 'contains(notlike)': False,\n",
       " 'contains(notlikethis)': False,\n",
       " 'contains(notlooking)': False,\n",
       " 'contains(notlookingforward)': False,\n",
       " 'contains(the)': False,\n",
       " 'contains(theconcert)': False,\n",
       " 'contains(theconcertbest)': False,\n",
       " 'contains(theconcertenemy)': False,\n",
       " 'contains(this)': True,\n",
       " 'contains(thiscar)': True,\n",
       " 'contains(thiscarthis)': False,\n",
       " 'contains(thismorning)': False,\n",
       " 'contains(thismorningexcited)': False,\n",
       " 'contains(thismorningnot)': False,\n",
       " 'contains(thisview)': False,\n",
       " 'contains(thisviewamazing)': False,\n",
       " 'contains(thisviewhorrible)': False,\n",
       " 'contains(tired)': False,\n",
       " 'contains(tiredthis)': False,\n",
       " 'contains(tiredthismorning)': False,\n",
       " 'contains(view)': False,\n",
       " 'contains(viewamazing)': False,\n",
       " 'contains(viewamazingfeel)': False,\n",
       " 'contains(viewhorrible)': False,\n",
       " 'contains(viewhorriblefeel)': False}"
      ]
     },
     "execution_count": 117,
     "metadata": {},
     "output_type": "execute_result"
    }
   ],
   "source": [
    "extract_features(('I love this car', 'positive'))"
   ]
  },
  {
   "cell_type": "code",
   "execution_count": 118,
   "metadata": {
    "collapsed": true
   },
   "outputs": [],
   "source": [
    "training_set = nltk.classify.apply_features(extract_features, tweets)"
   ]
  },
  {
   "cell_type": "code",
   "execution_count": 119,
   "metadata": {
    "collapsed": false
   },
   "outputs": [
    {
     "data": {
      "text/plain": [
       "[({'contains(bestfriend)': False, 'contains(tiredthis)': False, 'contains(excited)': False, 'contains(likethiscar)': False, 'contains(excitedabout)': False, 'contains(viewhorrible)': False, 'contains(concertenemy)': False, 'contains(notlikethis)': False, 'contains(thiscarthis)': False, 'contains(great)': False, 'contains(thisviewhorrible)': False, 'contains(morningexcitedabout)': False, 'contains(thiscar)': False, 'contains(lovethis)': False, 'contains(forwardtheconcert)': False, 'contains(tired)': False, 'contains(amazingfeelgreat)': False, 'contains(viewamazing)': False, 'contains(not)': False, 'contains(enemy)': False, 'contains(viewamazingfeel)': False, 'contains(greatthis)': False, 'contains(notlike)': False, 'contains(feel)': False, 'contains(morningnotlooking)': False, 'contains(carthis)': False, 'contains(lookingforward)': False, 'contains(thisview)': False, 'contains(feelgreat)': False, 'contains(morningexcited)': False, 'contains(likethis)': False, 'contains(aboutthe)': False, 'contains(friendnot)': False, 'contains(excitedaboutthe)': False, 'contains(notlooking)': False, 'contains(horriblefeel)': False, 'contains(like)': False, 'contains(car)': False, 'contains(about)': False, 'contains(horriblefeeltired)': False, 'contains(amazingfeel)': False, 'contains(greatthismorning)': False, 'contains(thismorningexcited)': False, 'contains(lovethiscar)': False, 'contains(concert)': False, 'contains(tiredthismorning)': False, 'contains(horrible)': False, 'contains(view)': False, 'contains(thismorningnot)': False, 'contains(feeltired)': False, 'contains(forwardthe)': False, 'contains(looking)': False, 'contains(theconcertbest)': False, 'contains(viewhorriblefeel)': False, 'contains(concertbest)': False, 'contains(feeltiredthis)': False, 'contains(theconcert)': False, 'contains(bestfriendnot)': False, 'contains(thisviewamazing)': False, 'contains(friendnotlike)': False, 'contains(forward)': False, 'contains(best)': False, 'contains(the)': False, 'contains(friend)': False, 'contains(feelgreatthis)': False, 'contains(love)': True, 'contains(morning)': False, 'contains(this)': False, 'contains(carthisview)': False, 'contains(concertbestfriend)': False, 'contains(lookingforwardthe)': False, 'contains(notlookingforward)': False, 'contains(theconcertenemy)': False, 'contains(thismorning)': False, 'contains(amazing)': False, 'contains(abouttheconcert)': False, 'contains(morningnot)': False}, 'positive'), ({'contains(bestfriend)': False, 'contains(tiredthis)': False, 'contains(excited)': False, 'contains(likethiscar)': False, 'contains(excitedabout)': False, 'contains(viewhorrible)': False, 'contains(concertenemy)': False, 'contains(notlikethis)': False, 'contains(thiscarthis)': False, 'contains(great)': False, 'contains(thisviewhorrible)': False, 'contains(morningexcitedabout)': False, 'contains(thiscar)': False, 'contains(lovethis)': False, 'contains(forwardtheconcert)': False, 'contains(tired)': False, 'contains(amazingfeelgreat)': False, 'contains(viewamazing)': False, 'contains(not)': False, 'contains(enemy)': False, 'contains(viewamazingfeel)': False, 'contains(greatthis)': False, 'contains(notlike)': False, 'contains(feel)': False, 'contains(morningnotlooking)': False, 'contains(carthis)': False, 'contains(lookingforward)': False, 'contains(thisview)': False, 'contains(feelgreat)': False, 'contains(morningexcited)': False, 'contains(likethis)': False, 'contains(aboutthe)': False, 'contains(friendnot)': False, 'contains(excitedaboutthe)': False, 'contains(notlooking)': False, 'contains(horriblefeel)': False, 'contains(like)': False, 'contains(car)': False, 'contains(about)': False, 'contains(horriblefeeltired)': False, 'contains(amazingfeel)': False, 'contains(greatthismorning)': False, 'contains(thismorningexcited)': False, 'contains(lovethiscar)': False, 'contains(concert)': False, 'contains(tiredthismorning)': False, 'contains(horrible)': False, 'contains(view)': False, 'contains(thismorningnot)': False, 'contains(feeltired)': False, 'contains(forwardthe)': False, 'contains(looking)': False, 'contains(theconcertbest)': False, 'contains(viewhorriblefeel)': False, 'contains(concertbest)': False, 'contains(feeltiredthis)': False, 'contains(theconcert)': False, 'contains(bestfriendnot)': False, 'contains(thisviewamazing)': False, 'contains(friendnotlike)': False, 'contains(forward)': False, 'contains(best)': False, 'contains(the)': False, 'contains(friend)': False, 'contains(feelgreatthis)': False, 'contains(love)': False, 'contains(morning)': False, 'contains(this)': True, 'contains(carthisview)': False, 'contains(concertbestfriend)': False, 'contains(lookingforwardthe)': False, 'contains(notlookingforward)': False, 'contains(theconcertenemy)': False, 'contains(thismorning)': False, 'contains(amazing)': False, 'contains(abouttheconcert)': False, 'contains(morningnot)': False}, 'positive'), ...]"
      ]
     },
     "execution_count": 119,
     "metadata": {},
     "output_type": "execute_result"
    }
   ],
   "source": [
    "training_set"
   ]
  },
  {
   "cell_type": "code",
   "execution_count": 120,
   "metadata": {
    "collapsed": true
   },
   "outputs": [],
   "source": [
    "classifier = nltk.NaiveBayesClassifier.train(training_set)"
   ]
  },
  {
   "cell_type": "code",
   "execution_count": 123,
   "metadata": {
    "collapsed": false
   },
   "outputs": [],
   "source": [
    "from nltk.probability import ELEProbDist\n",
    "def train(labeled_featuresets, estimator=ELEProbDist):\n",
    "    # Create the P(label) distribution\n",
    "    label_probdist = estimator(label_freqdist)\n",
    "    # Create the P(fval|label, fname) distribution\n",
    "    feature_probdist = {}\n",
    "    return NaiveBayesClassifier(label_probdist, feature_probdist)"
   ]
  },
  {
   "cell_type": "code",
   "execution_count": 125,
   "metadata": {
    "collapsed": false
   },
   "outputs": [
    {
     "name": "stdout",
     "output_type": "stream",
     "text": [
      "Most Informative Features\n",
      "           contains(not) = False          positi : negati =      1.6 : 1.0\n",
      "       contains(excited) = False          negati : positi =      1.2 : 1.0\n",
      "          contains(love) = False          negati : positi =      1.2 : 1.0\n",
      "         contains(enemy) = False          positi : negati =      1.2 : 1.0\n",
      "          contains(best) = False          negati : positi =      1.2 : 1.0\n",
      "   contains(carthisview) = False          negati : positi =      1.0 : 1.0\n",
      "contains(thismorningexcited) = False          negati : positi =      1.0 : 1.0\n",
      "contains(tiredthismorning) = False          negati : positi =      1.0 : 1.0\n",
      " contains(friendnotlike) = False          negati : positi =      1.0 : 1.0\n",
      "   contains(concertbest) = False          negati : positi =      1.0 : 1.0\n",
      "contains(morningexcited) = False          negati : positi =      1.0 : 1.0\n",
      "       contains(morning) = False          negati : positi =      1.0 : 1.0\n",
      "         contains(great) = False          negati : positi =      1.0 : 1.0\n",
      "contains(thisviewamazing) = False          negati : positi =      1.0 : 1.0\n",
      "         contains(about) = False          negati : positi =      1.0 : 1.0\n",
      "contains(viewamazingfeel) = False          negati : positi =      1.0 : 1.0\n",
      "contains(thismorningnot) = False          negati : positi =      1.0 : 1.0\n",
      "           contains(the) = False          negati : positi =      1.0 : 1.0\n",
      " contains(feeltiredthis) = False          negati : positi =      1.0 : 1.0\n",
      "       contains(looking) = False          negati : positi =      1.0 : 1.0\n",
      "          contains(like) = False          negati : positi =      1.0 : 1.0\n",
      "       contains(thiscar) = False          negati : positi =      1.0 : 1.0\n",
      "contains(abouttheconcert) = False          negati : positi =      1.0 : 1.0\n",
      "          contains(view) = False          negati : positi =      1.0 : 1.0\n",
      "contains(lookingforwardthe) = False          negati : positi =      1.0 : 1.0\n",
      "     contains(friendnot) = False          negati : positi =      1.0 : 1.0\n",
      "    contains(morningnot) = False          negati : positi =      1.0 : 1.0\n",
      "contains(thisviewhorrible) = False          negati : positi =      1.0 : 1.0\n",
      "     contains(feelgreat) = False          negati : positi =      1.0 : 1.0\n",
      "       contains(carthis) = False          negati : positi =      1.0 : 1.0\n",
      "       contains(amazing) = False          negati : positi =      1.0 : 1.0\n",
      "  contains(viewhorrible) = False          negati : positi =      1.0 : 1.0\n",
      "None\n"
     ]
    }
   ],
   "source": [
    "print classifier.show_most_informative_features(32)"
   ]
  }
 ],
 "metadata": {
  "kernelspec": {
   "display_name": "pySpark 1.6",
   "language": "python",
   "name": "pyspark"
  }
 },
 "nbformat": 4,
 "nbformat_minor": 2
}
