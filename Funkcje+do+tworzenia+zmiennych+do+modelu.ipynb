{
 "cells": [
  {
   "cell_type": "markdown",
   "metadata": {},
   "source": [
    "# Input"
   ]
  },
  {
   "cell_type": "code",
   "execution_count": 19,
   "metadata": {
    "collapsed": true
   },
   "outputs": [],
   "source": [
    "input_list = ['all', 'this', 'happened', 'more', 'or', 'less']"
   ]
  },
  {
   "cell_type": "markdown",
   "metadata": {},
   "source": [
    "# Funkcja tworząca ngramy"
   ]
  },
  {
   "cell_type": "code",
   "execution_count": 20,
   "metadata": {
    "collapsed": true
   },
   "outputs": [],
   "source": [
    "def find_ngrams(input_list, n):\n",
    "  return zip(*[input_list[i:] for i in range(n)])"
   ]
  },
  {
   "cell_type": "markdown",
   "metadata": {},
   "source": [
    "# Użycie funkcji"
   ]
  },
  {
   "cell_type": "markdown",
   "metadata": {},
   "source": [
    "Output to lista bigramow"
   ]
  },
  {
   "cell_type": "code",
   "execution_count": 29,
   "metadata": {
    "collapsed": false
   },
   "outputs": [
    {
     "name": "stdout",
     "output_type": "stream",
     "text": [
      "[('all',), ('this',), ('happened',), ('more',), ('or',), ('less',)]\n"
     ]
    }
   ],
   "source": [
    "print(find_ngrams(input_list,1))"
   ]
  },
  {
   "cell_type": "markdown",
   "metadata": {},
   "source": [
    "# Tworzenie unikalnej listy n-gramów"
   ]
  },
  {
   "cell_type": "code",
   "execution_count": 22,
   "metadata": {
    "collapsed": true
   },
   "outputs": [],
   "source": [
    "def makeUniqueList(mylist):\n",
    "    myset = set(mylist)\n",
    "    mynewlist = list(myset)\n",
    "    return mynewlist"
   ]
  },
  {
   "cell_type": "code",
   "execution_count": 23,
   "metadata": {
    "collapsed": true
   },
   "outputs": [],
   "source": [
    "mylist = [u'nowplaying', u'PBS', u'PBS', u'nowplaying', u'job', u'debate', u'thenandnow']"
   ]
  },
  {
   "cell_type": "code",
   "execution_count": 24,
   "metadata": {
    "collapsed": false
   },
   "outputs": [
    {
     "data": {
      "text/plain": [
       "[u'nowplaying', u'job', u'debate', u'PBS', u'thenandnow']"
      ]
     },
     "execution_count": 24,
     "metadata": {},
     "output_type": "execute_result"
    }
   ],
   "source": [
    "makeUniqueList(mylist)"
   ]
  },
  {
   "cell_type": "code",
   "execution_count": 13,
   "metadata": {
    "collapsed": true
   },
   "outputs": [],
   "source": [
    "pos_tweets = [('I love this car', 'positive'),\n",
    "              ('This view is amazing', 'positive'),\n",
    "              ('I feel great this morning', 'positive'),\n",
    "              ('I am so excited about the concert', 'positive'),\n",
    "              ('He is my best friend', 'positive')]\n",
    "neg_tweets = [('I do not like this car', 'negative'),\n",
    "              ('This view is horrible', 'negative'),\n",
    "              ('I feel tired this morning', 'negative'),\n",
    "              ('I am not looking forward to the concert', 'negative'),\n",
    "              ('He is my enemy', 'negative')]"
   ]
  },
  {
   "cell_type": "markdown",
   "metadata": {},
   "source": [
    "# Przeksztalcanie inputu z bazy "
   ]
  },
  {
   "cell_type": "code",
   "execution_count": 14,
   "metadata": {
    "collapsed": false
   },
   "outputs": [],
   "source": [
    "tweets = []\n",
    "for (words, sentiment) in pos_tweets + neg_tweets:\n",
    "    words_filtered = [e.lower() for e in words.split() if len(e) >= 3] \n",
    "    tweets.append((words_filtered, sentiment))"
   ]
  },
  {
   "cell_type": "code",
   "execution_count": 5,
   "metadata": {
    "collapsed": false
   },
   "outputs": [],
   "source": [
    "import nltk\n",
    "import nltk.collocations\n",
    "import nltk.corpus\n",
    "import collections"
   ]
  },
  {
   "cell_type": "code",
   "execution_count": 37,
   "metadata": {
    "collapsed": false
   },
   "outputs": [],
   "source": [
    "def get_word_scores(wordlist):\n",
    "    wordlist = nltk.FreqDist(wordlist)\n",
    "    #word_features = wordlist.keys()\n",
    "    return wordlist #word_features\n",
    "\n",
    "def get_words_in_tweets(tweets):\n",
    "    all_words = []\n",
    "    for (words, sentiment) in tweets:\n",
    "      all_words.extend(words)\n",
    "    return all_words\n",
    "\n",
    "def get_bigram_scores(tweets):\n",
    "    bgm    = nltk.collocations.BigramAssocMeasures()\n",
    "    finder = nltk.collocations.BigramCollocationFinder.from_words(\n",
    "        get_words_in_tweets(tweets))\n",
    "    scored = finder.score_ngrams( bgm.likelihood_ratio  )\n",
    "    return scored\n",
    "def get_trigram_scores(tweets):\n",
    "    bgm    = nltk.collocations.TrigramAssocMeasures()\n",
    "    finder = nltk.collocations.TrigramCollocationFinder.from_words(\n",
    "        get_words_in_tweets(tweets))\n",
    "    scored = finder.score_ngrams( bgm.likelihood_ratio  )\n",
    "    return scored"
   ]
  },
  {
   "cell_type": "markdown",
   "metadata": {},
   "source": [
    "Lista slow pojedycznych plus czestosc"
   ]
  },
  {
   "cell_type": "code",
   "execution_count": 35,
   "metadata": {
    "collapsed": false
   },
   "outputs": [
    {
     "data": {
      "text/plain": [
       "FreqDist({'about': 1,\n",
       "          'amazing': 1,\n",
       "          'best': 1,\n",
       "          'car': 2,\n",
       "          'concert': 2,\n",
       "          'enemy': 1,\n",
       "          'excited': 1,\n",
       "          'feel': 2,\n",
       "          'forward': 1,\n",
       "          'friend': 1,\n",
       "          'great': 1,\n",
       "          'horrible': 1,\n",
       "          'like': 1,\n",
       "          'looking': 1,\n",
       "          'love': 1,\n",
       "          'morning': 2,\n",
       "          'not': 2,\n",
       "          'the': 2,\n",
       "          'this': 6,\n",
       "          'tired': 1,\n",
       "          'view': 2})"
      ]
     },
     "execution_count": 35,
     "metadata": {},
     "output_type": "execute_result"
    }
   ],
   "source": [
    "get_word_features(get_words_in_tweets(tweets))"
   ]
  },
  {
   "cell_type": "markdown",
   "metadata": {},
   "source": [
    "lista bigramow"
   ]
  },
  {
   "cell_type": "code",
   "execution_count": 38,
   "metadata": {
    "collapsed": false
   },
   "outputs": [
    {
     "data": {
      "text/plain": [
       "[(('the', 'concert'), 15.089703656468842),\n",
       " (('best', 'friend'), 8.962401277605196),\n",
       " (('excited', 'about'), 8.962401277605196),\n",
       " (('looking', 'forward'), 8.962401277605196),\n",
       " (('car', 'this'), 7.4515336369310905),\n",
       " (('this', 'car'), 7.4515336369310905),\n",
       " (('this', 'morning'), 7.4515336369310905),\n",
       " (('this', 'view'), 7.4515336369310905),\n",
       " (('about', 'the'), 6.189812555365415),\n",
       " (('amazing', 'feel'), 6.189812555365415),\n",
       " (('concert', 'best'), 6.189812555365415),\n",
       " (('concert', 'enemy'), 6.189812555365415),\n",
       " (('feel', 'great'), 6.189812555365415),\n",
       " (('feel', 'tired'), 6.189812555365415),\n",
       " (('forward', 'the'), 6.189812555365415),\n",
       " (('friend', 'not'), 6.189812555365415),\n",
       " (('horrible', 'feel'), 6.189812555365415),\n",
       " (('morning', 'excited'), 6.189812555365415),\n",
       " (('not', 'like'), 6.189812555365415),\n",
       " (('not', 'looking'), 6.189812555365415),\n",
       " (('view', 'amazing'), 6.189812555365415),\n",
       " (('view', 'horrible'), 6.189812555365415),\n",
       " (('great', 'this'), 3.5556667712095402),\n",
       " (('like', 'this'), 3.5556667712095402),\n",
       " (('love', 'this'), 3.5556667712095402),\n",
       " (('tired', 'this'), 3.5556667712095402),\n",
       " (('morning', 'not'), 3.4817511558793264)]"
      ]
     },
     "execution_count": 38,
     "metadata": {},
     "output_type": "execute_result"
    }
   ],
   "source": [
    "get_bigram_scores(tweets)"
   ]
  },
  {
   "cell_type": "markdown",
   "metadata": {},
   "source": [
    "lista trigramow"
   ]
  },
  {
   "cell_type": "code",
   "execution_count": 40,
   "metadata": {
    "collapsed": false
   },
   "outputs": [
    {
     "data": {
      "text/plain": [
       "[(('car', 'this', 'view'), 33.81185594009992),\n",
       " (('about', 'the', 'concert'), 31.919274317751402),\n",
       " (('forward', 'the', 'concert'), 31.919274317751402),\n",
       " (('the', 'concert', 'best'), 31.919274317751402),\n",
       " (('the', 'concert', 'enemy'), 31.919274317751402),\n",
       " (('view', 'amazing', 'feel'), 31.919274317751402),\n",
       " (('view', 'horrible', 'feel'), 31.919274317751402),\n",
       " (('this', 'car', 'this'), 24.138939534321892),\n",
       " (('amazing', 'feel', 'great'), 22.728320749455918),\n",
       " (('best', 'friend', 'not'), 22.728320749455918),\n",
       " (('concert', 'best', 'friend'), 22.728320749455918),\n",
       " (('excited', 'about', 'the'), 22.728320749455918),\n",
       " (('friend', 'not', 'like'), 22.728320749455918),\n",
       " (('horrible', 'feel', 'tired'), 22.728320749455918),\n",
       " (('looking', 'forward', 'the'), 22.728320749455918),\n",
       " (('morning', 'excited', 'about'), 22.728320749455918),\n",
       " (('not', 'looking', 'forward'), 22.728320749455918),\n",
       " (('feel', 'great', 'this'), 20.462019288444772),\n",
       " (('feel', 'tired', 'this'), 20.462019288444772),\n",
       " (('great', 'this', 'morning'), 20.462019288444772),\n",
       " (('like', 'this', 'car'), 20.462019288444772),\n",
       " (('love', 'this', 'car'), 20.462019288444772),\n",
       " (('this', 'morning', 'excited'), 20.462019288444772),\n",
       " (('this', 'view', 'amazing'), 20.462019288444772),\n",
       " (('this', 'view', 'horrible'), 20.462019288444772),\n",
       " (('tired', 'this', 'morning'), 20.462019288444772),\n",
       " (('morning', 'not', 'looking'), 18.666228650226792),\n",
       " (('this', 'morning', 'not'), 16.821716676065186),\n",
       " (('not', 'like', 'this'), 15.136799460842528)]"
      ]
     },
     "execution_count": 40,
     "metadata": {},
     "output_type": "execute_result"
    }
   ],
   "source": [
    "get_trigram_scores(tweets)"
   ]
  },
  {
   "cell_type": "markdown",
   "metadata": {},
   "source": [
    "Wybranie top slow, bigramow, trigramow do modelu"
   ]
  }
 ],
 "metadata": {
  "kernelspec": {
   "display_name": "pySpark 1.6",
   "language": "python",
   "name": "pyspark"
  }
 },
 "nbformat": 4,
 "nbformat_minor": 2
}
